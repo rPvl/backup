{
  "nbformat": 4,
  "nbformat_minor": 0,
  "metadata": {
    "colab": {
      "provenance": []
    },
    "kernelspec": {
      "name": "python3",
      "display_name": "Python 3"
    },
    "language_info": {
      "name": "python"
    }
  },
  "cells": [
    {
      "cell_type": "markdown",
      "source": [
        "2022.11.09.\n",
        "\n",
        "1. first 실습\n",
        "\n",
        "2. 노드 개수 계산하는거 문제\n",
        "\n",
        "* CS(computersiensss) 231\n",
        "\n",
        "------\n",
        "\n",
        "손 글씨 분류\n",
        "\n",
        "파이토치 라이브러리. 토치비전 같은건 데이터 다운 패키지.\n",
        "\n",
        "\n",
        "0번째는 이미지. 1번째는 정답."
      ],
      "metadata": {
        "id": "RSfCP1yAnZgS"
      }
    },
    {
      "cell_type": "code",
      "source": [
        "from google.colab import drive\n",
        "drive.mount('/content/drive')"
      ],
      "metadata": {
        "colab": {
          "base_uri": "https://localhost:8080/"
        },
        "id": "ufQCMbJPoV-L",
        "outputId": "2041419c-ce16-49bc-a02d-be1a70d316d9"
      },
      "execution_count": null,
      "outputs": [
        {
          "output_type": "stream",
          "name": "stdout",
          "text": [
            "Drive already mounted at /content/drive; to attempt to forcibly remount, call drive.mount(\"/content/drive\", force_remount=True).\n"
          ]
        }
      ]
    },
    {
      "cell_type": "code",
      "execution_count": null,
      "metadata": {
        "id": "YxnJ4S7ombSh"
      },
      "outputs": [],
      "source": [
        "datasetPath=\"/content/drive/MyDrive/machine_learning/dataset\"\n",
        "parameterPath=\"/content/drive/MyDrive/machine_learning/parameters\""
      ]
    },
    {
      "cell_type": "markdown",
      "source": [
        "#SLP(Single-Layer Perceptron)"
      ],
      "metadata": {
        "id": "HzpBCzZCvhar"
      }
    },
    {
      "cell_type": "markdown",
      "source": [
        "##packge"
      ],
      "metadata": {
        "id": "NYCbfaOMvkIv"
      }
    },
    {
      "cell_type": "code",
      "source": [
        "import torch\n",
        "import torch.nn as nn\n",
        "import torchvision.datasets as dataset\n",
        "import torchvision.transforms as transform\n",
        "from torch.utils.data import DataLoader"
      ],
      "metadata": {
        "id": "DroXe4bzvjvP"
      },
      "execution_count": null,
      "outputs": []
    },
    {
      "cell_type": "markdown",
      "source": [
        "##Dataset"
      ],
      "metadata": {
        "id": "6p4-g_ryv3KZ"
      }
    },
    {
      "cell_type": "code",
      "source": [
        "#Training dataset 다운로드\n",
        "mnist_train = dataset.MNIST(root = datasetPath,\n",
        "                            train=True,\n",
        "                            transform = transform.ToTensor(),\n",
        "                            download=True)\n",
        "#Testing dataset 다운로드\n",
        "mnist_test = dataset.MNIST(root = datasetPath,\n",
        "                            train=False,\n",
        "                            transform = transform.ToTensor(),\n",
        "                            download=True\n",
        ")"
      ],
      "metadata": {
        "id": "ajn2QLKGv2yI"
      },
      "execution_count": null,
      "outputs": []
    },
    {
      "cell_type": "markdown",
      "source": [
        "##MNIST dataset check"
      ],
      "metadata": {
        "id": "WQWwMrkGwgvz"
      }
    },
    {
      "cell_type": "code",
      "source": [
        "import matplotlib.pyplot as plt\n",
        "print(len(mnist_train)) # training dataset 개수 확인\n",
        "\n",
        "first_data=mnist_train[0]\n",
        "print(first_data[0].shape) # 첫번째 data 형상 확인  1*28*28\n",
        "print(first_data[1]) # 첫번째 data 정답 확인\n",
        "\n",
        "plt.imshow(first_data[0][0,:,:], cmap='gray')\n",
        "plt.show()"
      ],
      "metadata": {
        "colab": {
          "base_uri": "https://localhost:8080/",
          "height": 317
        },
        "id": "p8FUEcAFwitG",
        "outputId": "9bbb8300-e2a9-41ae-f0f4-a1649eff68ff"
      },
      "execution_count": null,
      "outputs": [
        {
          "output_type": "stream",
          "name": "stdout",
          "text": [
            "60000\n",
            "torch.Size([1, 28, 28])\n",
            "5\n"
          ]
        },
        {
          "output_type": "display_data",
          "data": {
            "text/plain": [
              "<Figure size 432x288 with 1 Axes>"
            ],
            "image/png": "[encoded data removed]"
          },
          "metadata": {
            "needs_background": "light"
          }
        }
      ]
    },
    {
      "cell_type": "markdown",
      "source": [
        "perceptron의 각 노드는 한 번에 1개의 값을 입력 받을 수 있다.\n",
        "\n",
        "따라서 2D 형태 이미지의 전처리가 필요하다. -> 이미지 평탄화(28*28=784개)"
      ],
      "metadata": {
        "id": "zXwUcv3rDpkW"
      }
    },
    {
      "cell_type": "code",
      "source": [
        "first_img = first_data[0]\n",
        "print(first_img.shape)\n",
        "\n",
        "first_img = first_img.view(-1,28*28)#img 평탄화 수행 2D -> 1D\n",
        "print(first_img.shape)"
      ],
      "metadata": {
        "colab": {
          "base_uri": "https://localhost:8080/"
        },
        "id": "YogchFSpxP9l",
        "outputId": "024966af-35c7-4105-c84d-80956a99f0ed"
      },
      "execution_count": null,
      "outputs": [
        {
          "output_type": "stream",
          "name": "stdout",
          "text": [
            "torch.Size([1, 28, 28])\n",
            "torch.Size([1, 784])\n"
          ]
        }
      ]
    },
    {
      "cell_type": "markdown",
      "source": [
        "##SLP model define"
      ],
      "metadata": {
        "id": "5yi7356ixfZb"
      }
    },
    {
      "cell_type": "code",
      "source": [
        "class SLP(nn.Module):\n",
        "  def __init__(self):\n",
        "    super(SLP,self).__init__()\n",
        "    self.fc = nn.Linear(in_features=784, out_features=10) # input num : 784, output num : 10\n",
        "  def forward(self, x):\n",
        "    x = x.view(-1, 28*28) # img 평탄화\n",
        "    y = self.fc(x)\n",
        "    return y"
      ],
      "metadata": {
        "id": "nSmcZTC8xjTr"
      },
      "execution_count": null,
      "outputs": []
    },
    {
      "cell_type": "markdown",
      "source": [
        "##Hyper-parameters 지정"
      ],
      "metadata": {
        "id": "_r2xU5hux-nJ"
      }
    },
    {
      "cell_type": "code",
      "source": [
        "batch_size = 100\n",
        "learning_rate = 0.1\n",
        "training_epochs = 15\n",
        "loss_function = nn.CrossEntropyLoss()\n",
        "network = SLP()\n",
        "optimizer = torch. optim.SGD(network.parameters(), lr = learning_rate)#GD\n",
        "\n",
        "#batch 단위 학습을 위해 DataLoader 함수를 사용\n",
        "data_loader = DataLoader(dataset = mnist_train,\n",
        "                         batch_size = batch_size,\n",
        "                         shuffle=True,\n",
        "                         drop_last=True)"
      ],
      "metadata": {
        "id": "6uxt8UFlx80B"
      },
      "execution_count": null,
      "outputs": []
    },
    {
      "cell_type": "markdown",
      "source": [
        "##Training"
      ],
      "metadata": {
        "id": "Ea3DPRdY0aOt"
      }
    },
    {
      "cell_type": "code",
      "source": [
        "for epoch in range(training_epochs): #전체 데이터에 대한 반복 : epoch\n",
        "  avg_cost=0\n",
        "  total_batch = len(data_loader)\n",
        "\n",
        "  for img, label in data_loader: # 1 epoch 내의 배치에 대한 반복 : iteration\n",
        "    pred = network(img)#입력 이미지에 대해forward pass\n",
        "    loss = loss_function(pred, label)#예측 값, 정답을 이용해 loss 계산\n",
        "    optimizer.zero_grad()#gradient init\n",
        "    loss.backward()#모든 weight에 대해 편미분 값 계산. 역전파\n",
        "    optimizer.step()#파라미터 업데이트\n",
        "\n",
        "    avg_cost+= loss/ total_batch # 모든 배치에 대한 평균 loss 값 계산\n",
        "  \n",
        "  print(\"Epoch: %d Loss = %f\"%(epoch++1, avg_cost))\n",
        "print(\"Learning Finished\")"
      ],
      "metadata": {
        "colab": {
          "base_uri": "https://localhost:8080/"
        },
        "id": "CBCxtyJeygOk",
        "outputId": "ae518864-94dc-4d16-af44-a18f5760250e"
      },
      "execution_count": null,
      "outputs": [
        {
          "output_type": "stream",
          "name": "stdout",
          "text": [
            "Epoch: 1 Loss = 0.535373\n",
            "Epoch: 2 Loss = 0.359363\n",
            "Epoch: 3 Loss = 0.331237\n",
            "Epoch: 4 Loss = 0.316358\n",
            "Epoch: 5 Loss = 0.307096\n",
            "Epoch: 6 Loss = 0.300278\n",
            "Epoch: 7 Loss = 0.294839\n",
            "Epoch: 8 Loss = 0.290809\n",
            "Epoch: 9 Loss = 0.287374\n",
            "Epoch: 10 Loss = 0.284247\n",
            "Epoch: 11 Loss = 0.281760\n",
            "Epoch: 12 Loss = 0.279656\n",
            "Epoch: 13 Loss = 0.277714\n",
            "Epoch: 14 Loss = 0.275887\n",
            "Epoch: 15 Loss = 0.274447\n",
            "Learning Finished\n"
          ]
        }
      ]
    },
    {
      "cell_type": "markdown",
      "source": [
        "##Test"
      ],
      "metadata": {
        "id": "JaKK06hN0d9-"
      }
    },
    {
      "cell_type": "code",
      "source": [
        "with torch.no_grad(): # test에서는 기울기 계산 제외\n",
        "  img_test = mnist_test.data.float()\n",
        "  label_test = mnist_test.targets\n",
        "\n",
        "  prediction = network(img_test)#전체 test data를 한번에 계산\n",
        "  correct_prediction = torch.argmax(prediction,1)==label_test #예측 값이 가장 높은 숫자(0~9)와 정답 데이터가 일치한 지 확인\n",
        "  accuracy = correct_prediction.float().mean()\n",
        "  print(\"Accuracy : \", accuracy.item())"
      ],
      "metadata": {
        "colab": {
          "base_uri": "https://localhost:8080/"
        },
        "id": "18852KgozkzU",
        "outputId": "2906553c-f0d4-4908-e758-be25a3262df6"
      },
      "execution_count": null,
      "outputs": [
        {
          "output_type": "stream",
          "name": "stdout",
          "text": [
            "Accuracy :  0.8885999917984009\n"
          ]
        }
      ]
    },
    {
      "cell_type": "markdown",
      "source": [
        "#MLP(Multi-Layer Perceptron)"
      ],
      "metadata": {
        "id": "-kN6Ebu10o4r"
      }
    },
    {
      "cell_type": "markdown",
      "source": [
        "##packge"
      ],
      "metadata": {
        "id": "4vWmT_k70o4u"
      }
    },
    {
      "cell_type": "code",
      "source": [
        "import torch\n",
        "import torch.nn as nn\n",
        "import torchvision.datasets as dataset\n",
        "import torchvision.transforms as transform\n",
        "from torch.utils.data import DataLoader"
      ],
      "metadata": {
        "id": "-XR8_PLt0o4w"
      },
      "execution_count": null,
      "outputs": []
    },
    {
      "cell_type": "markdown",
      "source": [
        "##Dataset"
      ],
      "metadata": {
        "id": "LpI7-d8S0o4w"
      }
    },
    {
      "cell_type": "code",
      "source": [
        "#Training dataset\n",
        "mnist_train = dataset.MNIST(root = datasetPath,\n",
        "                            train=True,\n",
        "                            transform = transform.ToTensor(),\n",
        "                            download=True)\n",
        "#Testing dataset\n",
        "mnist_test = dataset.MNIST(root = datasetPath,\n",
        "                            train=False,\n",
        "                            transform = transform.ToTensor(),\n",
        "                            download=True\n",
        ")"
      ],
      "metadata": {
        "id": "UYuHRTXg0o4x"
      },
      "execution_count": null,
      "outputs": []
    },
    {
      "cell_type": "markdown",
      "source": [
        "##MNIST dataset check"
      ],
      "metadata": {
        "id": "Q16-vLgU0o4x"
      }
    },
    {
      "cell_type": "code",
      "source": [
        "import matplotlib.pyplot as plt\n",
        "print(len(mnist_train))\n",
        "\n",
        "first_data=mnist_train[0]\n",
        "print(first_data[0].shape)\n",
        "print(first_data[1])\n",
        "\n",
        "plt.imshow(first_data[0][0,:,:], cmap='gray')\n",
        "plt.show()"
      ],
      "metadata": {
        "colab": {
          "base_uri": "https://localhost:8080/",
          "height": 317
        },
        "outputId": "a49bc1ed-323e-4517-fdf1-3d7707ab8add",
        "id": "NZHLK0p80o4x"
      },
      "execution_count": null,
      "outputs": [
        {
          "output_type": "stream",
          "name": "stdout",
          "text": [
            "60000\n",
            "torch.Size([1, 28, 28])\n",
            "5\n"
          ]
        },
        {
          "output_type": "display_data",
          "data": {
            "text/plain": [
              "<Figure size 432x288 with 1 Axes>"
            ],
            "image/png": "[encoded data removed]"
          },
          "metadata": {
            "needs_background": "light"
          }
        }
      ]
    },
    {
      "cell_type": "code",
      "source": [
        "first_img = first_data[0]\n",
        "print(first_img.shape)\n",
        "\n",
        "first_img = first_img.view(-1,28*28)#img 평탄화\n",
        "print(first_img.shape)"
      ],
      "metadata": {
        "colab": {
          "base_uri": "https://localhost:8080/"
        },
        "outputId": "b5c29b4e-cd20-4bc8-8b72-91433250aa9c",
        "id": "HgDhCyI30o4y"
      },
      "execution_count": null,
      "outputs": [
        {
          "output_type": "stream",
          "name": "stdout",
          "text": [
            "torch.Size([1, 28, 28])\n",
            "torch.Size([1, 784])\n"
          ]
        }
      ]
    },
    {
      "cell_type": "markdown",
      "source": [
        "##MLP model defin"
      ],
      "metadata": {
        "id": "BLmdSskE0o4y"
      }
    },
    {
      "cell_type": "code",
      "source": [
        "class MLP(nn.Module): #2-layer\n",
        "  def __init__(self):\n",
        "    super(MLP,self).__init__()\n",
        "    self.fc1 = nn.Linear(in_features=784, out_features=100)#fc1의 출력 노드 개수와 fc2의 입력 노드 개수 반드시 동일\n",
        "    self.fc2 = nn.Linear(in_features=100, out_features=10)\n",
        "    self.sigmoid = nn.Sigmoid()#relu 쓸려면 nn.ReLU()\n",
        "\n",
        "  def forward(self, x):\n",
        "    x = x.view(-1, 28*28)\n",
        "    y = self.sigmoid(self.fc1(x))\n",
        "    y = self.fc2(y)\n",
        "    return y"
      ],
      "metadata": {
        "id": "mZMNol1q0o4z"
      },
      "execution_count": null,
      "outputs": []
    },
    {
      "cell_type": "markdown",
      "source": [
        "##Hyper-parameters"
      ],
      "metadata": {
        "id": "7vmN6lBn0o4z"
      }
    },
    {
      "cell_type": "code",
      "source": [
        "batch_size = 100\n",
        "learning_rate = 0.1\n",
        "training_epochs = 15\n",
        "loss_function = nn.CrossEntropyLoss()\n",
        "network = MLP()\n",
        "optimizer = torch. optim.SGD(network.parameters(), lr = learning_rate)#GD\n",
        "\n",
        "data_loader = DataLoader(dataset = mnist_train,\n",
        "                         batch_size = batch_size,\n",
        "                         shuffle=True,\n",
        "                         drop_last=True)"
      ],
      "metadata": {
        "id": "KYcFCC0k0o40"
      },
      "execution_count": null,
      "outputs": []
    },
    {
      "cell_type": "markdown",
      "source": [
        "##Training"
      ],
      "metadata": {
        "id": "2BUGuMcw0o40"
      }
    },
    {
      "cell_type": "code",
      "source": [
        "for epoch in range(training_epochs):\n",
        "  avg_cost=0\n",
        "  total_batch = len(data_loader)\n",
        "\n",
        "  for img, label in data_loader:\n",
        "    pred = network(img)\n",
        "    loss = loss_function(pred, label)\n",
        "    optimizer.zero_grad()#gradient init\n",
        "    loss.backward()#back Pa\n",
        "    optimizer.step()\n",
        "\n",
        "    avg_cost+= loss/ total_batch\n",
        "  \n",
        "  print(\"Epoch: %d Loss = %f\"%(epoch++1, avg_cost))\n",
        "print(\"Learning Finished\")"
      ],
      "metadata": {
        "colab": {
          "base_uri": "https://localhost:8080/"
        },
        "outputId": "1dd0b388-528a-4c88-b03e-e5381c0a53aa",
        "id": "AIw6Jtbw0o40"
      },
      "execution_count": null,
      "outputs": [
        {
          "output_type": "stream",
          "name": "stdout",
          "text": [
            "Epoch: 1 Loss = 1.155186\n",
            "Epoch: 2 Loss = 0.448009\n",
            "Epoch: 3 Loss = 0.359817\n",
            "Epoch: 4 Loss = 0.323254\n",
            "Epoch: 5 Loss = 0.300971\n",
            "Epoch: 6 Loss = 0.284256\n",
            "Epoch: 7 Loss = 0.270063\n",
            "Epoch: 8 Loss = 0.257503\n",
            "Epoch: 9 Loss = 0.246360\n",
            "Epoch: 10 Loss = 0.235989\n",
            "Epoch: 11 Loss = 0.226467\n",
            "Epoch: 12 Loss = 0.217554\n",
            "Epoch: 13 Loss = 0.209287\n",
            "Epoch: 14 Loss = 0.201497\n",
            "Epoch: 15 Loss = 0.194601\n",
            "Learning Finished\n"
          ]
        }
      ]
    },
    {
      "cell_type": "markdown",
      "source": [
        "##Test"
      ],
      "metadata": {
        "id": "qu2zWBBk0o41"
      }
    },
    {
      "cell_type": "code",
      "source": [
        "with torch.no_grad():\n",
        "  img_test = mnist_test.data.float()\n",
        "  label_test = mnist_test.targets\n",
        "\n",
        "  prediction = network(img_test)\n",
        "  correct_prediction = torch.argmax(prediction,1)==label_test\n",
        "  accuracy = correct_prediction.float().mean()\n",
        "  print(\"Accuracy : \", accuracy.item()) # 성능 확인"
      ],
      "metadata": {
        "colab": {
          "base_uri": "https://localhost:8080/"
        },
        "outputId": "23f160b1-924d-458c-b6b3-f53ba38e8d15",
        "id": "hQl7W9GF0o41"
      },
      "execution_count": null,
      "outputs": [
        {
          "output_type": "stream",
          "name": "stdout",
          "text": [
            "Accuracy :  0.9422000050544739\n"
          ]
        }
      ]
    },
    {
      "cell_type": "markdown",
      "source": [
        "##예측 결과 값 확인"
      ],
      "metadata": {
        "id": "ir8MBonN3DbP"
      }
    },
    {
      "cell_type": "code",
      "source": [
        "first_data = mnist_test.data[3]\n",
        "with torch.no_grad():\n",
        "  prediction = network(first_data.view(-1,784).float())\n",
        "print(prediction)\n",
        "p_num = torch.argmax(prediction)\n",
        "print(\"예측 값은 %d입니다.\"%(p_num))"
      ],
      "metadata": {
        "colab": {
          "base_uri": "https://localhost:8080/"
        },
        "id": "b-L5E0Aq3H4w",
        "outputId": "26d272b5-b691-4dac-eeb2-170e0e7aac2f"
      },
      "execution_count": null,
      "outputs": [
        {
          "output_type": "stream",
          "name": "stdout",
          "text": [
            "tensor([[14.2654, -8.5854,  1.5742, -0.8309, -5.8056,  0.9241,  0.4766,  1.2493,\n",
            "         -1.2756, -0.3721]])\n",
            "예측 값은 0입니다.\n"
          ]
        }
      ]
    }
  ]
}
