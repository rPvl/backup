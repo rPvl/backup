{
  "nbformat": 4,
  "nbformat_minor": 0,
  "metadata": {
    "colab": {
      "provenance": []
    },
    "kernelspec": {
      "name": "python3",
      "display_name": "Python 3"
    },
    "language_info": {
      "name": "python"
    },
    "accelerator": "GPU",
    "gpuClass": "standard",
    "widgets": {
      "application/vnd.jupyter.widget-state+json": {
        "39eedbf0e34347df8c31dcca38d59142": {
          "model_module": "@jupyter-widgets/controls",
          "model_name": "HBoxModel",
          "model_module_version": "1.5.0",
          "state": {
            "_dom_classes": [],
            "_model_module": "@jupyter-widgets/controls",
            "_model_module_version": "1.5.0",
            "_model_name": "HBoxModel",
            "_view_count": null,
            "_view_module": "@jupyter-widgets/controls",
            "_view_module_version": "1.5.0",
            "_view_name": "HBoxView",
            "box_style": "",
            "children": [
              "IPY_MODEL_ae27efd4864e474eaf9dc688caafd125",
              "IPY_MODEL_76772847ef574fc9a8166829dcd35662",
              "IPY_MODEL_541a4f23a6bb491689c446c051bbc597"
            ],
            "layout": "IPY_MODEL_95bd1aa56cb14c87aeabdc47dfc81a8a"
          }
        },
        "ae27efd4864e474eaf9dc688caafd125": {
          "model_module": "@jupyter-widgets/controls",
          "model_name": "HTMLModel",
          "model_module_version": "1.5.0",
          "state": {
            "_dom_classes": [],
            "_model_module": "@jupyter-widgets/controls",
            "_model_module_version": "1.5.0",
            "_model_name": "HTMLModel",
            "_view_count": null,
            "_view_module": "@jupyter-widgets/controls",
            "_view_module_version": "1.5.0",
            "_view_name": "HTMLView",
            "description": "",
            "description_tooltip": null,
            "layout": "IPY_MODEL_7dfeb67b34674cbea67be6e1d21be393",
            "placeholder": "​",
            "style": "IPY_MODEL_94aff95d738842e79dc48fce2b01054f",
            "value": "100%"
          }
        },
        "76772847ef574fc9a8166829dcd35662": {
          "model_module": "@jupyter-widgets/controls",
          "model_name": "FloatProgressModel",
          "model_module_version": "1.5.0",
          "state": {
            "_dom_classes": [],
            "_model_module": "@jupyter-widgets/controls",
            "_model_module_version": "1.5.0",
            "_model_name": "FloatProgressModel",
            "_view_count": null,
            "_view_module": "@jupyter-widgets/controls",
            "_view_module_version": "1.5.0",
            "_view_name": "ProgressView",
            "bar_style": "success",
            "description": "",
            "description_tooltip": null,
            "layout": "IPY_MODEL_1b9224b8d0aa4aea9887944992b87e4e",
            "max": 170498071,
            "min": 0,
            "orientation": "horizontal",
            "style": "IPY_MODEL_64d81bbccbf6423c90f4e5a127726d40",
            "value": 170498071
          }
        },
        "541a4f23a6bb491689c446c051bbc597": {
          "model_module": "@jupyter-widgets/controls",
          "model_name": "HTMLModel",
          "model_module_version": "1.5.0",
          "state": {
            "_dom_classes": [],
            "_model_module": "@jupyter-widgets/controls",
            "_model_module_version": "1.5.0",
            "_model_name": "HTMLModel",
            "_view_count": null,
            "_view_module": "@jupyter-widgets/controls",
            "_view_module_version": "1.5.0",
            "_view_name": "HTMLView",
            "description": "",
            "description_tooltip": null,
            "layout": "IPY_MODEL_9ce193dacd8742ac85e42e127956f166",
            "placeholder": "​",
            "style": "IPY_MODEL_3e0fb119ee5b49b599a3bf0dd4a30518",
            "value": " 170498071/170498071 [00:02&lt;00:00, 76282395.23it/s]"
          }
        },
        "95bd1aa56cb14c87aeabdc47dfc81a8a": {
          "model_module": "@jupyter-widgets/base",
          "model_name": "LayoutModel",
          "model_module_version": "1.2.0",
          "state": {
            "_model_module": "@jupyter-widgets/base",
            "_model_module_version": "1.2.0",
            "_model_name": "LayoutModel",
            "_view_count": null,
            "_view_module": "@jupyter-widgets/base",
            "_view_module_version": "1.2.0",
            "_view_name": "LayoutView",
            "align_content": null,
            "align_items": null,
            "align_self": null,
            "border": null,
            "bottom": null,
            "display": null,
            "flex": null,
            "flex_flow": null,
            "grid_area": null,
            "grid_auto_columns": null,
            "grid_auto_flow": null,
            "grid_auto_rows": null,
            "grid_column": null,
            "grid_gap": null,
            "grid_row": null,
            "grid_template_areas": null,
            "grid_template_columns": null,
            "grid_template_rows": null,
            "height": null,
            "justify_content": null,
            "justify_items": null,
            "left": null,
            "margin": null,
            "max_height": null,
            "max_width": null,
            "min_height": null,
            "min_width": null,
            "object_fit": null,
            "object_position": null,
            "order": null,
            "overflow": null,
            "overflow_x": null,
            "overflow_y": null,
            "padding": null,
            "right": null,
            "top": null,
            "visibility": null,
            "width": null
          }
        },
        "7dfeb67b34674cbea67be6e1d21be393": {
          "model_module": "@jupyter-widgets/base",
          "model_name": "LayoutModel",
          "model_module_version": "1.2.0",
          "state": {
            "_model_module": "@jupyter-widgets/base",
            "_model_module_version": "1.2.0",
            "_model_name": "LayoutModel",
            "_view_count": null,
            "_view_module": "@jupyter-widgets/base",
            "_view_module_version": "1.2.0",
            "_view_name": "LayoutView",
            "align_content": null,
            "align_items": null,
            "align_self": null,
            "border": null,
            "bottom": null,
            "display": null,
            "flex": null,
            "flex_flow": null,
            "grid_area": null,
            "grid_auto_columns": null,
            "grid_auto_flow": null,
            "grid_auto_rows": null,
            "grid_column": null,
            "grid_gap": null,
            "grid_row": null,
            "grid_template_areas": null,
            "grid_template_columns": null,
            "grid_template_rows": null,
            "height": null,
            "justify_content": null,
            "justify_items": null,
            "left": null,
            "margin": null,
            "max_height": null,
            "max_width": null,
            "min_height": null,
            "min_width": null,
            "object_fit": null,
            "object_position": null,
            "order": null,
            "overflow": null,
            "overflow_x": null,
            "overflow_y": null,
            "padding": null,
            "right": null,
            "top": null,
            "visibility": null,
            "width": null
          }
        },
        "94aff95d738842e79dc48fce2b01054f": {
          "model_module": "@jupyter-widgets/controls",
          "model_name": "DescriptionStyleModel",
          "model_module_version": "1.5.0",
          "state": {
            "_model_module": "@jupyter-widgets/controls",
            "_model_module_version": "1.5.0",
            "_model_name": "DescriptionStyleModel",
            "_view_count": null,
            "_view_module": "@jupyter-widgets/base",
            "_view_module_version": "1.2.0",
            "_view_name": "StyleView",
            "description_width": ""
          }
        },
        "1b9224b8d0aa4aea9887944992b87e4e": {
          "model_module": "@jupyter-widgets/base",
          "model_name": "LayoutModel",
          "model_module_version": "1.2.0",
          "state": {
            "_model_module": "@jupyter-widgets/base",
            "_model_module_version": "1.2.0",
            "_model_name": "LayoutModel",
            "_view_count": null,
            "_view_module": "@jupyter-widgets/base",
            "_view_module_version": "1.2.0",
            "_view_name": "LayoutView",
            "align_content": null,
            "align_items": null,
            "align_self": null,
            "border": null,
            "bottom": null,
            "display": null,
            "flex": null,
            "flex_flow": null,
            "grid_area": null,
            "grid_auto_columns": null,
            "grid_auto_flow": null,
            "grid_auto_rows": null,
            "grid_column": null,
            "grid_gap": null,
            "grid_row": null,
            "grid_template_areas": null,
            "grid_template_columns": null,
            "grid_template_rows": null,
            "height": null,
            "justify_content": null,
            "justify_items": null,
            "left": null,
            "margin": null,
            "max_height": null,
            "max_width": null,
            "min_height": null,
            "min_width": null,
            "object_fit": null,
            "object_position": null,
            "order": null,
            "overflow": null,
            "overflow_x": null,
            "overflow_y": null,
            "padding": null,
            "right": null,
            "top": null,
            "visibility": null,
            "width": null
          }
        },
        "64d81bbccbf6423c90f4e5a127726d40": {
          "model_module": "@jupyter-widgets/controls",
          "model_name": "ProgressStyleModel",
          "model_module_version": "1.5.0",
          "state": {
            "_model_module": "@jupyter-widgets/controls",
            "_model_module_version": "1.5.0",
            "_model_name": "ProgressStyleModel",
            "_view_count": null,
            "_view_module": "@jupyter-widgets/base",
            "_view_module_version": "1.2.0",
            "_view_name": "StyleView",
            "bar_color": null,
            "description_width": ""
          }
        },
        "9ce193dacd8742ac85e42e127956f166": {
          "model_module": "@jupyter-widgets/base",
          "model_name": "LayoutModel",
          "model_module_version": "1.2.0",
          "state": {
            "_model_module": "@jupyter-widgets/base",
            "_model_module_version": "1.2.0",
            "_model_name": "LayoutModel",
            "_view_count": null,
            "_view_module": "@jupyter-widgets/base",
            "_view_module_version": "1.2.0",
            "_view_name": "LayoutView",
            "align_content": null,
            "align_items": null,
            "align_self": null,
            "border": null,
            "bottom": null,
            "display": null,
            "flex": null,
            "flex_flow": null,
            "grid_area": null,
            "grid_auto_columns": null,
            "grid_auto_flow": null,
            "grid_auto_rows": null,
            "grid_column": null,
            "grid_gap": null,
            "grid_row": null,
            "grid_template_areas": null,
            "grid_template_columns": null,
            "grid_template_rows": null,
            "height": null,
            "justify_content": null,
            "justify_items": null,
            "left": null,
            "margin": null,
            "max_height": null,
            "max_width": null,
            "min_height": null,
            "min_width": null,
            "object_fit": null,
            "object_position": null,
            "order": null,
            "overflow": null,
            "overflow_x": null,
            "overflow_y": null,
            "padding": null,
            "right": null,
            "top": null,
            "visibility": null,
            "width": null
          }
        },
        "3e0fb119ee5b49b599a3bf0dd4a30518": {
          "model_module": "@jupyter-widgets/controls",
          "model_name": "DescriptionStyleModel",
          "model_module_version": "1.5.0",
          "state": {
            "_model_module": "@jupyter-widgets/controls",
            "_model_module_version": "1.5.0",
            "_model_name": "DescriptionStyleModel",
            "_view_count": null,
            "_view_module": "@jupyter-widgets/base",
            "_view_module_version": "1.2.0",
            "_view_name": "StyleView",
            "description_width": ""
          }
        }
      }
    }
  },
  "cells": [
    {
      "cell_type": "markdown",
      "source": [
        "2022.11.16.\n",
        "\n",
        "Image Classification using LeNet-5"
      ],
      "metadata": {
        "id": "sIgRxKoOGjE7"
      }
    },
    {
      "cell_type": "code",
      "source": [
        "from google.colab import drive\n",
        "drive.mount('/content/drive')"
      ],
      "metadata": {
        "colab": {
          "base_uri": "https://localhost:8080/"
        },
        "id": "2x-wBNKd-f6y",
        "outputId": "9c78d209-3683-4c45-c977-d08fa894ca17"
      },
      "execution_count": 1,
      "outputs": [
        {
          "output_type": "stream",
          "name": "stdout",
          "text": [
            "Mounted at /content/drive\n"
          ]
        }
      ]
    },
    {
      "cell_type": "markdown",
      "source": [
        "#MLP 이미지 분류"
      ],
      "metadata": {
        "id": "k4LIsY2ftKEz"
      }
    },
    {
      "cell_type": "code",
      "execution_count": 4,
      "metadata": {
        "id": "TurzbegjS_Wi"
      },
      "outputs": [],
      "source": [
        "datasetPath = \"/content/drive/MyDrive/machine_learning/dataset\"\n",
        "parameterPath = \"/content/drive/MyDrive/machine_learning/parameters\""
      ]
    },
    {
      "cell_type": "markdown",
      "source": [
        "### 패키지 선언"
      ],
      "metadata": {
        "id": "QklLFdrtjr5a"
      }
    },
    {
      "cell_type": "code",
      "source": [
        "import torch\n",
        "import torch.nn as nn\n",
        "import torchvision.datasets as dataset\n",
        "import torchvision.transforms as transform\n",
        "from torch.utils.data import DataLoader\n",
        "import numpy as np"
      ],
      "metadata": {
        "id": "7lV8TMctTuX7"
      },
      "execution_count": 2,
      "outputs": []
    },
    {
      "cell_type": "markdown",
      "source": [
        "## Dataset 선언"
      ],
      "metadata": {
        "id": "wglW_lW5j8RM"
      }
    },
    {
      "cell_type": "code",
      "source": [
        "# Training dataset 다운로드\n",
        "cifar10_train = dataset.CIFAR10(root = datasetPath, # 데이터셋이 저장된 위치\n",
        "                            train = True,\n",
        "                            transform = transform.ToTensor(),\n",
        "                            download = True)\n",
        "# Testing dataset 다운로드\n",
        "cifar10_test = dataset.CIFAR10(root = datasetPath,\n",
        "                            train = False,\n",
        "                            transform = transform.ToTensor(),\n",
        "                            download = True)"
      ],
      "metadata": {
        "id": "24F1ZKZ9j2y-",
        "colab": {
          "base_uri": "https://localhost:8080/",
          "height": 105,
          "referenced_widgets": [
            "39eedbf0e34347df8c31dcca38d59142",
            "ae27efd4864e474eaf9dc688caafd125",
            "76772847ef574fc9a8166829dcd35662",
            "541a4f23a6bb491689c446c051bbc597",
            "95bd1aa56cb14c87aeabdc47dfc81a8a",
            "7dfeb67b34674cbea67be6e1d21be393",
            "94aff95d738842e79dc48fce2b01054f",
            "1b9224b8d0aa4aea9887944992b87e4e",
            "64d81bbccbf6423c90f4e5a127726d40",
            "9ce193dacd8742ac85e42e127956f166",
            "3e0fb119ee5b49b599a3bf0dd4a30518"
          ]
        },
        "outputId": "fcccac05-61bc-469d-c561-70a3aa1f201c"
      },
      "execution_count": 5,
      "outputs": [
        {
          "output_type": "stream",
          "name": "stdout",
          "text": [
            "Downloading https://www.cs.toronto.edu/~kriz/cifar-10-python.tar.gz to /content/drive/MyDrive/marthinruning/dataset/cifar-10-python.tar.gz\n"
          ]
        },
        {
          "output_type": "display_data",
          "data": {
            "text/plain": [
              "  0%|          | 0/170498071 [00:00<?, ?it/s]"
            ],
            "application/vnd.jupyter.widget-view+json": {
              "version_major": 2,
              "version_minor": 0,
              "model_id": "39eedbf0e34347df8c31dcca38d59142"
            }
          },
          "metadata": {}
        },
        {
          "output_type": "stream",
          "name": "stdout",
          "text": [
            "Extracting /content/drive/MyDrive/marthinruning/dataset/cifar-10-python.tar.gz to /content/drive/MyDrive/marthinruning/dataset\n",
            "Files already downloaded and verified\n"
          ]
        }
      ]
    },
    {
      "cell_type": "markdown",
      "source": [
        "## Multi Layer Perceptron 모델 정의"
      ],
      "metadata": {
        "id": "I65fUdO7uzp-"
      }
    },
    {
      "cell_type": "markdown",
      "source": [
        "![image.png](data:image/png;base64,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)"
      ],
      "metadata": {
        "id": "LoiuI4BBMAUj"
      }
    },
    {
      "cell_type": "code",
      "source": [
        "class MLP(nn.Module):\n",
        "  \n",
        "  def __init__(self):\n",
        "    super(MLP, self).__init__()\n",
        "\n",
        "    # 신경망 파라미터 선언 (3072 x 1000, 1000 x 128, 128 x 10)\n",
        "    self.fc1=nn.Linear(in_features=3072, out_features=1000)\n",
        "    self.fc2=nn.Linear(in_features=1000, out_features=128)\n",
        "    self.fc3=nn.Linear(in_features=128, out_features=10)\n",
        "    \n",
        "    # Activation function 선언: nn.ReLU()\n",
        "    self.relu = nn.ReLU()\n",
        "\n",
        "  def forward(self, x):\n",
        "    # 이미지 평탄화 수행: batch size x 3072\n",
        "    x= x.view(-1, 3072) # 2D -> 1D\n",
        "    y=self.relu(self.fc1(x))\n",
        "    y=self.relu(self.fc2(y))\n",
        "    y=self.relu(self.fc3(y))\n",
        "    \n",
        "    # FC layer와 activation function 추가 (Softmax 함수는 자동 적용되므로 호출하지 않아도 상관없음)\n",
        "\n",
        "    return y"
      ],
      "metadata": {
        "id": "WFtrBN3iCr9t"
      },
      "execution_count": 6,
      "outputs": []
    },
    {
      "cell_type": "markdown",
      "source": [
        "## Hyper-parameters 지정"
      ],
      "metadata": {
        "id": "5Fz63UdivjY3"
      }
    },
    {
      "cell_type": "code",
      "source": [
        "batch_size = 100\n",
        "learning_rate = 0.1\n",
        "training_epochs = 15\n",
        "loss_function = nn.CrossEntropyLoss()\n",
        "network = MLP()\n",
        "optimizer = torch.optim.SGD(network.parameters(), lr = learning_rate)\n",
        "\n",
        "data_loader = DataLoader(dataset=cifar10_train,\n",
        "                         batch_size=batch_size,\n",
        "                         shuffle=True,\n",
        "                         drop_last=True)"
      ],
      "metadata": {
        "id": "DIdnVvA4vjCe"
      },
      "execution_count": 7,
      "outputs": []
    },
    {
      "cell_type": "markdown",
      "source": [
        "## Perceptron 학습을 위한 반복문 선언"
      ],
      "metadata": {
        "id": "dBPBa7th2oNx"
      }
    },
    {
      "cell_type": "code",
      "source": [
        "for epoch in range(training_epochs):\n",
        "  avg_cost = 0\n",
        "  total_batch = len(data_loader)\n",
        "\n",
        "  for img, label in data_loader:\n",
        "\n",
        "    pred = network(img)\n",
        "\n",
        "    loss = loss_function(pred, label)\n",
        "    optimizer.zero_grad() # gradient 초기화\n",
        "    loss.backward()\n",
        "    optimizer.step()\n",
        "\n",
        "    avg_cost += loss / total_batch\n",
        "  \n",
        "  print('Epoch: %d Loss = %f'%(epoch+1, avg_cost))\n",
        "\n",
        "print('Learning finished')"
      ],
      "metadata": {
        "colab": {
          "base_uri": "https://localhost:8080/"
        },
        "id": "_vKcxUMlvUJE",
        "outputId": "0117d11d-22ac-4618-f491-f5dd988ee5f9"
      },
      "execution_count": 7,
      "outputs": [
        {
          "output_type": "stream",
          "name": "stdout",
          "text": [
            "Epoch: 1 Loss = 2.093985\n",
            "Epoch: 2 Loss = 1.871286\n",
            "Epoch: 3 Loss = 1.763212\n",
            "Epoch: 4 Loss = 1.648516\n",
            "Epoch: 5 Loss = 1.583158\n",
            "Epoch: 6 Loss = 1.529842\n",
            "Epoch: 7 Loss = 1.493162\n",
            "Epoch: 8 Loss = 1.457372\n",
            "Epoch: 9 Loss = 1.421477\n",
            "Epoch: 10 Loss = 1.389029\n",
            "Epoch: 11 Loss = 1.363570\n",
            "Epoch: 12 Loss = 1.335572\n",
            "Epoch: 13 Loss = 1.310331\n",
            "Epoch: 14 Loss = 1.286184\n",
            "Epoch: 15 Loss = 1.258467\n",
            "Learning finished\n"
          ]
        }
      ]
    },
    {
      "cell_type": "markdown",
      "source": [
        "## 학습이 완료된 모델을 이용해 정답률 확인"
      ],
      "metadata": {
        "id": "M-ewxZmlAPZ1"
      }
    },
    {
      "cell_type": "code",
      "source": [
        "network.eval()\n",
        "img_test = torch.tensor(np.transpose(cifar10_test.data , (0, 3, 1, 2))) /255.\n",
        "label_test = torch.tensor(cifar10_test.targets)\n",
        "\n",
        "with torch.no_grad(): # test에서는 기울기 계산 제외\n",
        "    prediction = network(img_test) # 전체 test data를 한번에 계산\n",
        "\n",
        "correct_prediction = torch.argmax(prediction, 1) == label_test\n",
        "accuracy = correct_prediction.float().mean()\n",
        "print('Accuracy:', accuracy.item())"
      ],
      "metadata": {
        "colab": {
          "base_uri": "https://localhost:8080/"
        },
        "id": "ae3-hzD67GG5",
        "outputId": "eb86d6b2-1d05-4cfc-d31a-92e83cf3c3df"
      },
      "execution_count": 8,
      "outputs": [
        {
          "output_type": "stream",
          "name": "stdout",
          "text": [
            "Accuracy: 0.11180000007152557\n"
          ]
        }
      ]
    },
    {
      "cell_type": "markdown",
      "source": [
        "## Colab GPU를 이용한 training loop"
      ],
      "metadata": {
        "id": "TwSqRVf_WM2_"
      }
    },
    {
      "cell_type": "markdown",
      "source": [
        "런타임>런타임 유형 변경>GPU선택"
      ],
      "metadata": {
        "id": "eR_18GKEMHiD"
      }
    },
    {
      "cell_type": "code",
      "source": [
        "network = network.to('cuda:0')\n",
        "for epoch in range(training_epochs):\n",
        "  avg_cost = 0\n",
        "  total_batch = len(data_loader)\n",
        "\n",
        "  for img, label in data_loader:\n",
        "    \n",
        "    img = img.to('cuda:0')\n",
        "    label = label.to('cuda:0')\n",
        "\n",
        "    pred = network(img)\n",
        "\n",
        "    loss = loss_function(pred, label)\n",
        "    optimizer.zero_grad() # gradient 초기화\n",
        "    loss.backward()\n",
        "    optimizer.step()\n",
        "\n",
        "    avg_cost += loss / total_batch\n",
        "  \n",
        "  print('Epoch: %d Loss = %f'%(epoch+1, avg_cost))\n",
        "\n",
        "print('Learning finished')"
      ],
      "metadata": {
        "id": "uc6-xpA-WPEt",
        "colab": {
          "base_uri": "https://localhost:8080/"
        },
        "outputId": "bef28118-c876-4c0f-df11-731f8e899299"
      },
      "execution_count": 9,
      "outputs": [
        {
          "output_type": "stream",
          "name": "stdout",
          "text": [
            "Epoch: 1 Loss = 1.236843\n",
            "Epoch: 2 Loss = 1.212528\n",
            "Epoch: 3 Loss = 1.191726\n",
            "Epoch: 4 Loss = 1.166456\n",
            "Epoch: 5 Loss = 1.140103\n",
            "Epoch: 6 Loss = 1.121888\n",
            "Epoch: 7 Loss = 1.099313\n",
            "Epoch: 8 Loss = 1.084477\n",
            "Epoch: 9 Loss = 1.068461\n",
            "Epoch: 10 Loss = 1.036814\n",
            "Epoch: 11 Loss = 1.021093\n",
            "Epoch: 12 Loss = 1.003598\n",
            "Epoch: 13 Loss = 0.979048\n",
            "Epoch: 14 Loss = 0.961651\n",
            "Epoch: 15 Loss = 0.937559\n",
            "Learning finished\n"
          ]
        }
      ]
    },
    {
      "cell_type": "markdown",
      "source": [
        "#CNN"
      ],
      "metadata": {
        "id": "EtBLFhuZ0VgB"
      }
    },
    {
      "cell_type": "markdown",
      "source": [
        "MLP에서는 평탄화를 해줘야 했지만 CNN을 쓰면 평탄화를 하지 않아도 된다. (2D)\n",
        "\n",
        "다만 출력 형태가 Tensor 이므로 예측 결과를 확인 할 수 없다.\n",
        "\n",
        "이미지 > CNN > Feature maps > 평탄화 > 1D vector > FC layers 로 결과를 확인하고자 한다."
      ],
      "metadata": {
        "id": "JQpM9AsNHwhz"
      }
    },
    {
      "cell_type": "code",
      "execution_count": 10,
      "metadata": {
        "id": "tg2-xofi0VgD"
      },
      "outputs": [],
      "source": [
        "datasetPath = \"/content/drive/MyDrive/machine_learning/dataset\"\n",
        "parameterPath = \"/content/drive/MyDrive/machine_learning/parameters\""
      ]
    },
    {
      "cell_type": "markdown",
      "source": [
        "### 패키지 선언"
      ],
      "metadata": {
        "id": "4eAypLou0VgF"
      }
    },
    {
      "cell_type": "code",
      "source": [
        "import torch\n",
        "import torch.nn as nn\n",
        "import torchvision.datasets as dataset\n",
        "import torchvision.transforms as transform\n",
        "from torch.utils.data import DataLoader\n",
        "import numpy as np"
      ],
      "metadata": {
        "id": "BlxmzpvV0VgH"
      },
      "execution_count": 11,
      "outputs": []
    },
    {
      "cell_type": "markdown",
      "source": [
        "## Dataset 선언"
      ],
      "metadata": {
        "id": "wBxoURkA0VgI"
      }
    },
    {
      "cell_type": "code",
      "source": [
        "# Training dataset 다운로드\n",
        "cifar10_train = dataset.CIFAR10(root = datasetPath, # 데이터셋이 저장된 위치\n",
        "                            train = True,\n",
        "                            transform = transform.ToTensor(),\n",
        "                            download = True)\n",
        "# Testing dataset 다운로드\n",
        "cifar10_test = dataset.CIFAR10(root = datasetPath,\n",
        "                            train = False,\n",
        "                            transform = transform.ToTensor(),\n",
        "                            download = True)"
      ],
      "metadata": {
        "colab": {
          "base_uri": "https://localhost:8080/"
        },
        "outputId": "e33f5513-a218-4e60-8dd7-719d050ccf33",
        "id": "sw1CN-YU0VgJ"
      },
      "execution_count": 12,
      "outputs": [
        {
          "output_type": "stream",
          "name": "stdout",
          "text": [
            "Files already downloaded and verified\n",
            "Files already downloaded and verified\n"
          ]
        }
      ]
    },
    {
      "cell_type": "markdown",
      "source": [
        "## CNN 모델 (LeNet-5) 정의"
      ],
      "metadata": {
        "id": "ZZegznU30VgK"
      }
    },
    {
      "cell_type": "markdown",
      "source": [
        "![image.png](data:image/png;base64,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)"
      ],
      "metadata": {
        "id": "8hQfU5dbLzG7"
      }
    },
    {
      "cell_type": "code",
      "source": [
        "class LeNet5(nn.Module):\n",
        "  def __init__(self):\n",
        "    super(LeNet5,self).__init__()\n",
        "    self.conv1=nn.Conv2d(in_channels=3, out_channels=6, kernel_size=5) \n",
        "    self.conv2=nn.Conv2d(in_channels=6, out_channels=16, kernel_size=5)\n",
        "    \n",
        "    self.fc1=nn.Linear(in_features=400, out_features=120)\n",
        "    self.fc2=nn.Linear(in_features=120, out_features=84) \n",
        "    self.fc3=nn.Linear(in_features=84, out_features=10)\n",
        "\n",
        "    self.relu = nn.ReLU()\n",
        "    self.maxPool2d = nn.MaxPool2d(kernel_size=2, stride=2)\n",
        "\n",
        "  def forward(self,x):\n",
        "    out = self.relu(self.conv1(x))\n",
        "    out = self.maxPool2d(out)\n",
        "    out = self.relu(self.conv2(out))\n",
        "    out = self.maxPool2d(out)\n",
        "\n",
        "    out = out.view(-1,400) #feature map 평탄화\n",
        "    out = self.relu(self.fc1(out))\n",
        "    out = self.relu(self.fc2(out))\n",
        "    out = self.fc3(out)\n",
        "\n",
        "    return out"
      ],
      "metadata": {
        "id": "hUPS1FoZ0VgL"
      },
      "execution_count": 13,
      "outputs": []
    },
    {
      "cell_type": "markdown",
      "source": [
        "## Hyper-parameters 지정"
      ],
      "metadata": {
        "id": "zMGYqRUP0VgL"
      }
    },
    {
      "cell_type": "code",
      "source": [
        "batch_size = 100\n",
        "learning_rate = 0.1\n",
        "training_epochs = 15\n",
        "loss_function = nn.CrossEntropyLoss()\n",
        "network = LeNet5()\n",
        "optimizer = torch.optim.SGD(network.parameters(), lr = learning_rate)\n",
        "\n",
        "data_loader = DataLoader(dataset=cifar10_train,\n",
        "                         batch_size=batch_size,\n",
        "                         shuffle=True,\n",
        "                         drop_last=True)"
      ],
      "metadata": {
        "id": "5VMsYt1-0VgM"
      },
      "execution_count": 14,
      "outputs": []
    },
    {
      "cell_type": "markdown",
      "source": [
        "## Perceptron 학습을 위한 반복문 선언"
      ],
      "metadata": {
        "id": "2KhknrR20VgM"
      }
    },
    {
      "cell_type": "code",
      "source": [
        "for epoch in range(training_epochs):\n",
        "  avg_cost = 0\n",
        "  total_batch = len(data_loader)\n",
        "\n",
        "  for img, label in data_loader:\n",
        "\n",
        "    pred = network(img)\n",
        "\n",
        "    loss = loss_function(pred, label)\n",
        "    optimizer.zero_grad() # gradient 초기화\n",
        "    loss.backward()\n",
        "    optimizer.step()\n",
        "\n",
        "    avg_cost += loss / total_batch\n",
        "  \n",
        "  print('Epoch: %d Loss = %f'%(epoch+1, avg_cost))\n",
        "\n",
        "print('Learning finished')"
      ],
      "metadata": {
        "colab": {
          "base_uri": "https://localhost:8080/"
        },
        "outputId": "370eeb82-a7e0-46be-a9d5-4d4bdb57cd90",
        "id": "gFhj7JYS0VgO"
      },
      "execution_count": 15,
      "outputs": [
        {
          "output_type": "stream",
          "name": "stdout",
          "text": [
            "Epoch: 1 Loss = 2.154504\n",
            "Epoch: 2 Loss = 1.824778\n",
            "Epoch: 3 Loss = 1.567131\n",
            "Epoch: 4 Loss = 1.449101\n",
            "Epoch: 5 Loss = 1.370931\n",
            "Epoch: 6 Loss = 1.303386\n",
            "Epoch: 7 Loss = 1.249930\n",
            "Epoch: 8 Loss = 1.210180\n",
            "Epoch: 9 Loss = 1.165800\n",
            "Epoch: 10 Loss = 1.123923\n",
            "Epoch: 11 Loss = 1.085258\n",
            "Epoch: 12 Loss = 1.050535\n",
            "Epoch: 13 Loss = 1.023117\n",
            "Epoch: 14 Loss = 0.987994\n",
            "Epoch: 15 Loss = 0.969306\n",
            "Learning finished\n"
          ]
        }
      ]
    },
    {
      "cell_type": "markdown",
      "source": [
        "## 학습이 완료된 모델을 이용해 정답률 확인"
      ],
      "metadata": {
        "id": "GVD5SjIJ0VgO"
      }
    },
    {
      "cell_type": "code",
      "source": [
        "network.eval()\n",
        "img_test = torch.tensor(np.transpose(cifar10_test.data , (0, 3, 1, 2))) /255.\n",
        "label_test = torch.tensor(cifar10_test.targets)\n",
        "\n",
        "with torch.no_grad(): # test에서는 기울기 계산 제외\n",
        "    prediction = network(img_test) # 전체 test data를 한번에 계산\n",
        "\n",
        "correct_prediction = torch.argmax(prediction, 1) == label_test\n",
        "accuracy = correct_prediction.float().mean()\n",
        "print('Accuracy:', accuracy.item())"
      ],
      "metadata": {
        "id": "gycm9DcJ0VgP",
        "colab": {
          "base_uri": "https://localhost:8080/"
        },
        "outputId": "f388e573-f147-471c-dd72-aa8434c78119"
      },
      "execution_count": 16,
      "outputs": [
        {
          "output_type": "stream",
          "name": "stdout",
          "text": [
            "Accuracy: 0.5795000195503235\n"
          ]
        }
      ]
    },
    {
      "cell_type": "markdown",
      "source": [
        "## Colab GPU를 이용한 training loop"
      ],
      "metadata": {
        "id": "48D8p9h20VgP"
      }
    },
    {
      "cell_type": "code",
      "source": [
        "network = network.to('cuda:0')\n",
        "for epoch in range(training_epochs):\n",
        "  avg_cost = 0\n",
        "  total_batch = len(data_loader)\n",
        "\n",
        "  for img, label in data_loader:\n",
        "    \n",
        "    img = img.to('cuda:0')\n",
        "    label = label.to('cuda:0')\n",
        "\n",
        "    pred = network(img)\n",
        "\n",
        "    loss = loss_function(pred, label)\n",
        "    optimizer.zero_grad() # gradient 초기화\n",
        "    loss.backward()\n",
        "    optimizer.step()\n",
        "\n",
        "    avg_cost += loss / total_batch\n",
        "  \n",
        "  print('Epoch: %d Loss = %f'%(epoch+1, avg_cost))\n",
        "\n",
        "print('Learning finished')"
      ],
      "metadata": {
        "id": "5U68q0qG0VgP",
        "colab": {
          "base_uri": "https://localhost:8080/"
        },
        "outputId": "4c1768c4-ff16-4d10-a876-abf5a675f84f"
      },
      "execution_count": 17,
      "outputs": [
        {
          "output_type": "stream",
          "name": "stdout",
          "text": [
            "Epoch: 1 Loss = 0.939670\n",
            "Epoch: 2 Loss = 0.910957\n",
            "Epoch: 3 Loss = 0.892280\n",
            "Epoch: 4 Loss = 0.871957\n",
            "Epoch: 5 Loss = 0.844041\n",
            "Epoch: 6 Loss = 0.821768\n",
            "Epoch: 7 Loss = 0.803123\n",
            "Epoch: 8 Loss = 0.784110\n",
            "Epoch: 9 Loss = 0.766003\n",
            "Epoch: 10 Loss = 0.753464\n",
            "Epoch: 11 Loss = 0.730765\n",
            "Epoch: 12 Loss = 0.724862\n",
            "Epoch: 13 Loss = 0.710666\n",
            "Epoch: 14 Loss = 0.693045\n",
            "Epoch: 15 Loss = 0.688535\n",
            "Learning finished\n"
          ]
        }
      ]
    }
  ]
}
